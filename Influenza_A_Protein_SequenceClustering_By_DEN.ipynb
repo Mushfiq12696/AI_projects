{
  "nbformat": 4,
  "nbformat_minor": 0,
  "metadata": {
    "colab": {
      "provenance": [],
      "authorship_tag": "ABX9TyPGvlySckEUYAj/YEhPwz90",
      "include_colab_link": true
    },
    "kernelspec": {
      "name": "python3",
      "display_name": "Python 3"
    },
    "language_info": {
      "name": "python"
    }
  },
  "cells": [
    {
      "cell_type": "markdown",
      "metadata": {
        "id": "view-in-github",
        "colab_type": "text"
      },
      "source": [
        "<a href=\"https://colab.research.google.com/github/Mushfiq12696/Deep_learning_project/blob/main/Influenza_A_Protein_SequenceClustering_By_DEN.ipynb\" target=\"_parent\"><img src=\"https://colab.research.google.com/assets/colab-badge.svg\" alt=\"Open In Colab\"/></a>"
      ]
    },
    {
      "cell_type": "code",
      "execution_count": null,
      "metadata": {
        "id": "q-TjVuDcpvtf"
      },
      "outputs": [],
      "source": [
        "pip install sgt"
      ]
    },
    {
      "cell_type": "code",
      "source": [
        "pip install pandarallel"
      ],
      "metadata": {
        "id": "Vqz49hImp_Gd"
      },
      "execution_count": null,
      "outputs": []
    },
    {
      "cell_type": "code",
      "source": [
        "import sgt\n",
        "sgt.__version__\n",
        "from sgt import SGT"
      ],
      "metadata": {
        "id": "bpSrjSqUqOxV"
      },
      "execution_count": null,
      "outputs": []
    },
    {
      "cell_type": "code",
      "source": [
        "import pandarallel  # required library for multiprocessing\n",
        "from sklearn.decomposition import PCA\n",
        "from sklearn.cluster import KMeans\n",
        "from yellowbrick.cluster import SilhouetteVisualizer\n",
        "import numpy as np\n",
        "import matplotlib.pyplot as plt\n",
        "import io\n",
        "import pandas as pd\n",
        "import matplotlib as mpl\n",
        "import itertools\n",
        "import seaborn as sns\n",
        "%matplotlib inline"
      ],
      "metadata": {
        "id": "Oli76mzVqHQj"
      },
      "execution_count": null,
      "outputs": []
    },
    {
      "cell_type": "code",
      "source": [
        "df = pd.read_csv('/content/New_PProtein4.csv')"
      ],
      "metadata": {
        "id": "5Xtncc3HqWh6"
      },
      "execution_count": null,
      "outputs": []
    },
    {
      "cell_type": "code",
      "source": [
        "df[['Accession','Host','SubType','P_Name']] = df.Properties.str.split(\" \", expand = True)"
      ],
      "metadata": {
        "id": "1n1UB78PqccI"
      },
      "execution_count": null,
      "outputs": []
    },
    {
      "cell_type": "code",
      "source": [
        "df.head()"
      ],
      "metadata": {
        "id": "E5berFTSqmAW"
      },
      "execution_count": null,
      "outputs": []
    },
    {
      "cell_type": "code",
      "source": [
        "new_data = df.drop(['Properties','Accession','Host','P_Name',],axis =1)\n",
        "new_data.head()"
      ],
      "metadata": {
        "id": "5RCONqheqtxb"
      },
      "execution_count": null,
      "outputs": []
    },
    {
      "cell_type": "code",
      "source": [
        "subtype = df[[\"SubType\"]]"
      ],
      "metadata": {
        "id": "L74Dm_GFMOTP"
      },
      "execution_count": null,
      "outputs": []
    },
    {
      "cell_type": "code",
      "source": [
        "options = ['H1N1','H3N2']\n",
        "df_filtered = new_data[new_data['SubType'].isin(options)]\n",
        "df_filtered"
      ],
      "metadata": {
        "id": "KXsyvQqjq3Oa"
      },
      "execution_count": null,
      "outputs": []
    },
    {
      "cell_type": "code",
      "source": [
        "new_data = df_filtered\n",
        "new_data"
      ],
      "metadata": {
        "id": "KRBPBrfCrDGc"
      },
      "execution_count": null,
      "outputs": []
    },
    {
      "cell_type": "code",
      "source": [
        "X = df[' Sequence']\n",
        "def split(word):\n",
        "  return [char for char in word]\n",
        "sequences = [split(x) for x in X]"
      ],
      "metadata": {
        "id": "oMWzSmxyrNHK"
      },
      "execution_count": null,
      "outputs": []
    },
    {
      "cell_type": "code",
      "source": [
        "new_data = new_data.loc[:,['SubType',' Sequence']]\n",
        "new_data.columns = ['id', 'sequence']\n",
        "new_data['sequence'] = new_data['sequence'].map(list)\n",
        "new_data"
      ],
      "metadata": {
        "id": "aLv33KDlrSNH"
      },
      "execution_count": null,
      "outputs": []
    },
    {
      "cell_type": "code",
      "source": [
        "y = new_data.iloc[:,0].astype('category').values\n",
        "y"
      ],
      "metadata": {
        "colab": {
          "base_uri": "https://localhost:8080/"
        },
        "id": "dYU8sHC4yrIY",
        "outputId": "e7b42205-bcd2-4662-8de9-8d15eae6b367"
      },
      "execution_count": null,
      "outputs": [
        {
          "output_type": "execute_result",
          "data": {
            "text/plain": [
              "['H1N1', 'H1N1', 'H1N1', 'H3N2', 'H3N2', ..., 'H1N1', 'H1N1', 'H1N1', 'H1N1', 'H3N2']\n",
              "Length: 4125\n",
              "Categories (2, object): ['H1N1', 'H3N2']"
            ]
          },
          "metadata": {},
          "execution_count": 25
        }
      ]
    },
    {
      "cell_type": "code",
      "source": [
        "subtypes = new_data[['id']]"
      ],
      "metadata": {
        "id": "SUulAWrqt_sz"
      },
      "execution_count": null,
      "outputs": []
    },
    {
      "cell_type": "code",
      "source": [
        "subtypes.values"
      ],
      "metadata": {
        "id": "RpzLli_YuSrW"
      },
      "execution_count": null,
      "outputs": []
    },
    {
      "cell_type": "code",
      "source": [
        "new_data"
      ],
      "metadata": {
        "id": "caqEjZJpzPPu"
      },
      "execution_count": null,
      "outputs": []
    },
    {
      "cell_type": "markdown",
      "source": [
        "Embedding Process"
      ],
      "metadata": {
        "id": "r3cyO8sNqfnE"
      }
    },
    {
      "cell_type": "code",
      "source": [
        "%%time\n",
        "# Compute SGT embeddings\n",
        "#Applying Deep Embedding network\n",
        "\n",
        "sgt_ = SGT(kappa=1, \n",
        "           lengthsensitive=False, \n",
        "           mode='multiprocessing')\n",
        "sgtembedding_df = sgt_.fit_transform(new_data)"
      ],
      "metadata": {
        "id": "NTU5qCNSrXc5"
      },
      "execution_count": null,
      "outputs": []
    },
    {
      "cell_type": "code",
      "source": [
        "sgtembedding_df = sgtembedding_df.set_index('id')\n",
        "sgtembedding_df"
      ],
      "metadata": {
        "id": "XzX0kGl7rbqf"
      },
      "execution_count": null,
      "outputs": []
    },
    {
      "cell_type": "code",
      "source": [],
      "metadata": {
        "id": "tcy2wE4Lt3Ql"
      },
      "execution_count": null,
      "outputs": []
    },
    {
      "cell_type": "code",
      "source": [
        "pca = PCA(n_components=2)\n",
        "pca.fit(sgtembedding_df)\n",
        "y = new_data.iloc[:,0].astype('category').values\n",
        "X=pca.transform(sgtembedding_df)\n",
        "print(np.sum(pca.explained_variance_ratio_))"
      ],
      "metadata": {
        "colab": {
          "base_uri": "https://localhost:8080/"
        },
        "id": "D0K2PdoVrhv-",
        "outputId": "706d99b2-710d-4353-e081-3516983ebd66"
      },
      "execution_count": null,
      "outputs": [
        {
          "output_type": "stream",
          "name": "stderr",
          "text": [
            "/usr/local/lib/python3.8/dist-packages/sklearn/utils/validation.py:1688: FutureWarning: Feature names only support names that are all strings. Got feature names with dtypes: ['tuple']. An error will be raised in 1.2.\n",
            "  warnings.warn(\n"
          ]
        },
        {
          "output_type": "stream",
          "name": "stdout",
          "text": [
            "0.6068045549264547\n"
          ]
        },
        {
          "output_type": "stream",
          "name": "stderr",
          "text": [
            "/usr/local/lib/python3.8/dist-packages/sklearn/utils/validation.py:1688: FutureWarning: Feature names only support names that are all strings. Got feature names with dtypes: ['tuple']. An error will be raised in 1.2.\n",
            "  warnings.warn(\n"
          ]
        }
      ]
    },
    {
      "cell_type": "code",
      "source": [
        "df = pd.DataFrame(data=X, columns=['x1','x2'])\n",
        "df['class'] = y\n",
        "df"
      ],
      "metadata": {
        "id": "UvVfLiwG0eft"
      },
      "execution_count": null,
      "outputs": []
    },
    {
      "cell_type": "code",
      "source": [
        "plt.figure(1, figsize=(10,10), dpi=100)\n",
        "plt.clf()\n",
        "sns.lmplot(data=df, x=\"x1\", y=\"x2\", fit_reg=False, hue='class')\n",
        "plt.show()"
      ],
      "metadata": {
        "colab": {
          "base_uri": "https://localhost:8080/",
          "height": 386
        },
        "id": "sxUrllAH0wQd",
        "outputId": "6015cff7-6c51-4de8-a9e5-c71865051f80"
      },
      "execution_count": null,
      "outputs": [
        {
          "output_type": "display_data",
          "data": {
            "text/plain": [
              "<Figure size 1000x1000 with 0 Axes>"
            ]
          },
          "metadata": {}
        },
        {
          "output_type": "display_data",
          "data": {
            "text/plain": [
              "<Figure size 421.75x360 with 1 Axes>"
            ],
            "image/png": "[encoded data removed]"
          },
          "metadata": {
            "needs_background": "light"
          }
        }
      ]
    },
    {
      "cell_type": "code",
      "source": [
        "X.shape"
      ],
      "metadata": {
        "colab": {
          "base_uri": "https://localhost:8080/"
        },
        "id": "ntJCANgH2gAS",
        "outputId": "ab7873ea-8eb4-4c7f-bec5-3ca584dd14e1"
      },
      "execution_count": null,
      "outputs": [
        {
          "output_type": "execute_result",
          "data": {
            "text/plain": [
              "(4125, 2)"
            ]
          },
          "metadata": {},
          "execution_count": 39
        }
      ]
    },
    {
      "cell_type": "code",
      "source": [
        "X"
      ],
      "metadata": {
        "id": "K5w39bMK5AOZ"
      },
      "execution_count": null,
      "outputs": []
    },
    {
      "cell_type": "code",
      "source": [
        "kmeans = KMeans(n_clusters=2,random_state=0)\n",
        "kmeans.fit(X)"
      ],
      "metadata": {
        "colab": {
          "base_uri": "https://localhost:8080/"
        },
        "id": "b7eAsCZ36lNL",
        "outputId": "4ecfd7e8-5de6-45a1-b920-c09575b3df3a"
      },
      "execution_count": null,
      "outputs": [
        {
          "output_type": "execute_result",
          "data": {
            "text/plain": [
              "KMeans(n_clusters=2, random_state=0)"
            ]
          },
          "metadata": {},
          "execution_count": 18
        }
      ]
    },
    {
      "cell_type": "code",
      "source": [
        "labels = kmeans.predict(X)\n",
        "labels"
      ],
      "metadata": {
        "colab": {
          "base_uri": "https://localhost:8080/"
        },
        "id": "9pY76-rd6pDn",
        "outputId": "80c9b7ae-c1db-4fa8-86b7-97cd76bb2964"
      },
      "execution_count": null,
      "outputs": [
        {
          "output_type": "execute_result",
          "data": {
            "text/plain": [
              "array([0, 0, 0, ..., 0, 0, 1], dtype=int32)"
            ]
          },
          "metadata": {},
          "execution_count": 19
        }
      ]
    },
    {
      "cell_type": "code",
      "source": [
        "ax=plt.subplots(figsize=(10,5))\n",
        "ax=sns.countplot(labels)\n",
        "title=\"Histogram of Cluster Counts of K-means\"\n",
        "ax.set_title(title, fontsize=12)\n",
        "plt.show()"
      ],
      "metadata": {
        "colab": {
          "base_uri": "https://localhost:8080/",
          "height": 390
        },
        "id": "sKFWRiAY6vNe",
        "outputId": "db24c658-6744-42bb-886f-82949a2ffb31"
      },
      "execution_count": null,
      "outputs": [
        {
          "output_type": "stream",
          "name": "stderr",
          "text": [
            "/usr/local/lib/python3.8/dist-packages/seaborn/_decorators.py:36: FutureWarning: Pass the following variable as a keyword arg: x. From version 0.12, the only valid positional argument will be `data`, and passing other arguments without an explicit keyword will result in an error or misinterpretation.\n",
            "  warnings.warn(\n"
          ]
        },
        {
          "output_type": "display_data",
          "data": {
            "text/plain": [
              "<Figure size 720x360 with 1 Axes>"
            ],
            "image/png": "[encoded data removed]"
          },
          "metadata": {
            "needs_background": "light"
          }
        }
      ]
    },
    {
      "cell_type": "code",
      "source": [
        "plt.scatter(X[labels==0,0],X[labels==0,1], s = 100, c = 'red', label = 'H1N1')\n",
        "plt.scatter(X[labels==1,0],X[labels==1,1], s = 100, c = 'blue', label = 'H3N2')\n",
        "\n",
        "plt.scatter(kmeans.cluster_centers_[:,0],kmeans.cluster_centers_[:,1],s = 100, c = 'green', label = 'centroids')\n",
        "\n",
        "plt.legend()"
      ],
      "metadata": {
        "colab": {
          "base_uri": "https://localhost:8080/",
          "height": 285
        },
        "id": "QgoZ-X1t8bin",
        "outputId": "66fc6be9-d7a2-4ff7-c88f-625c007a751e"
      },
      "execution_count": null,
      "outputs": [
        {
          "output_type": "execute_result",
          "data": {
            "text/plain": [
              "<matplotlib.legend.Legend at 0x7f2364a8b760>"
            ]
          },
          "metadata": {},
          "execution_count": 21
        },
        {
          "output_type": "display_data",
          "data": {
            "text/plain": [
              "<Figure size 432x288 with 1 Axes>"
            ],
            "image/png": "[encoded data removed]"
          },
          "metadata": {
            "needs_background": "light"
          }
        }
      ]
    },
    {
      "cell_type": "code",
      "source": [
        "#Using the elbow method to find the optimum number of cluster\n",
        "\n",
        "wcss = []\n",
        "for i in range(1,10):\n",
        "    kmeans = KMeans(n_clusters=i,init='k-means++',max_iter=300,n_init=10,random_state=0)\n",
        "    kmeans.fit(X)\n",
        "    wcss.append(kmeans.inertia_)\n",
        "plt.plot(range(1,10),wcss)\n",
        "plt.title('The Elbow Method')\n",
        "plt.xlabel('Number of clusters')\n",
        "plt.ylabel('WCSS')\n",
        "plt.show()"
      ],
      "metadata": {
        "colab": {
          "base_uri": "https://localhost:8080/",
          "height": 294
        },
        "id": "BQWgmgc3w2gd",
        "outputId": "0682ffba-3f77-41b8-e32b-59ce4dcef1bc"
      },
      "execution_count": null,
      "outputs": [
        {
          "output_type": "display_data",
          "data": {
            "text/plain": [
              "<Figure size 432x288 with 1 Axes>"
            ],
            "image/png": "[encoded data removed]"
          },
          "metadata": {
            "needs_background": "light"
          }
        }
      ]
    },
    {
      "cell_type": "code",
      "source": [
        "fig, ax = plt.subplots(3, 2, figsize=(15,8))\n",
        "for i in [2, 3, 4, 5,6,7]:\n",
        "    '''\n",
        "    Create KMeans instances for different number of clusters\n",
        "    '''\n",
        "    km = KMeans(n_clusters=2, init='k-means++', n_init=10, max_iter=100, random_state=42)\n",
        "    q, mod = divmod(i, 2)\n",
        "    '''\n",
        "    Create SilhouetteVisualizer instance with KMeans instance\n",
        "    Fit the visualizer\n",
        "    '''\n",
        "    visualizer = SilhouetteVisualizer(km, colors='yellowbrick', ax=ax[q-1][mod])\n",
        "    visualizer.fit(X)\n",
        "\n"
      ],
      "metadata": {
        "id": "Mgp3qL-97NbI",
        "colab": {
          "base_uri": "https://localhost:8080/",
          "height": 470
        },
        "outputId": "eaaa431f-ff68-4679-a61e-d91377464bdc"
      },
      "execution_count": null,
      "outputs": [
        {
          "output_type": "display_data",
          "data": {
            "text/plain": [
              "<Figure size 1080x576 with 6 Axes>"
            ],
            "image/png": "[encoded data removed]"
          },
          "metadata": {
            "needs_background": "light"
          }
        }
      ]
    },
    {
      "cell_type": "code",
      "source": [],
      "metadata": {
        "id": "a9zycoVRxnth"
      },
      "execution_count": null,
      "outputs": []
    }
  ]
}